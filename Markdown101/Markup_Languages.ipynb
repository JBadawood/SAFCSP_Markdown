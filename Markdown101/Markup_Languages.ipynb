{
  "nbformat": 4,
  "nbformat_minor": 0,
  "metadata": {
    "colab": {
      "provenance": [],
      "authorship_tag": "ABX9TyOkCsTAamXExs1PiTDHxTCG",
      "include_colab_link": true
    },
    "kernelspec": {
      "name": "python3",
      "display_name": "Python 3"
    },
    "language_info": {
      "name": "python"
    }
  },
  "cells": [
    {
      "cell_type": "markdown",
      "metadata": {
        "id": "view-in-github",
        "colab_type": "text"
      },
      "source": [
        "<a href=\"https://colab.research.google.com/github/JBadawood/SAFCSP_Markdown/blob/main/Markdown101/Markup_Languages.ipynb\" target=\"_parent\"><img src=\"https://colab.research.google.com/assets/colab-badge.svg\" alt=\"Open In Colab\"/></a>"
      ]
    },
    {
      "cell_type": "markdown",
      "source": [
        "# Markdown 101 | Star منصة سَطر\n",
        "https://satr.codes/courses/mearAaYiwE/view\n",
        "\n",
        "## **1. مقدمة في Markdown**\n",
        "###الفروقات بين Markdown و Markup Languages"
      ],
      "metadata": {
        "id": "cVlbXIrxQsc7"
      }
    },
    {
      "cell_type": "markdown",
      "source": [
        "دليل الماركداون\\\n",
        "https://guide.dawin.io/\n",
        "\n",
        "\\\n",
        "محرر دوّن\\\n",
        "https://www.markdownguide.org/tools/dawin/"
      ],
      "metadata": {
        "id": "FtlohvDQQLIk"
      }
    },
    {
      "cell_type": "markdown",
      "source": [
        "# **Markdown**"
      ],
      "metadata": {
        "id": "8prWr3ROSC9f"
      }
    },
    {
      "cell_type": "markdown",
      "source": [
        "# This is a level one header\n",
        "This is a paragraph\n",
        "## This a level two header\n",
        "Here is a paragraph that is followed by\n",
        "* an unnumbered\n",
        "* list\n",
        "1. and a numbered\n",
        "2. list that is\n",
        "3. three items long"
      ],
      "metadata": {
        "id": "JMUJ8uViRZdv"
      }
    },
    {
      "cell_type": "markdown",
      "source": [
        "\n",
        "\n",
        "```\n",
        "# This is a level one header\n",
        "This is a paragraph\n",
        "## This a level two header\n",
        "Here is a paragraph that is followed by\n",
        "* an unnumbered\n",
        "* list\n",
        "1. and a numbered\n",
        "2. list that is\n",
        "3. three items long\n",
        "```\n",
        "\n"
      ],
      "metadata": {
        "id": "NfLzxzICSOVT"
      }
    },
    {
      "cell_type": "markdown",
      "source": [
        "#**HTML**"
      ],
      "metadata": {
        "id": "zDBIPRmsSW1q"
      }
    },
    {
      "cell_type": "markdown",
      "source": [
        "\n",
        "\n",
        "```\n",
        "<h1>This is a level one header</h1>\n",
        "<p>This is a paragraph</p>\n",
        "<h2>This a level two header</h2>\n",
        "<p>Here is a paragraph that is followed by</p>\n",
        "<ul>\n",
        "<li>an unnumbered</li>\n",
        "<li>list</li>\n",
        "</ul>\n",
        "<ol type=\"1\">\n",
        "<li>and a numbered</li>\n",
        "<li>list that is</li>\n",
        "<li>three items long</li>\n",
        "</ol>\n",
        "```\n",
        "\n"
      ],
      "metadata": {
        "id": "RfEc8c5TUbvr"
      }
    },
    {
      "cell_type": "markdown",
      "source": [
        "<h1>This is a level one header</h1>\n",
        "\n",
        "<p>This is a paragraph</p>\n",
        "\n",
        "<h2>This a level two header</h2>\n",
        "\n",
        "<p>Here is a paragraph that is followed by</p>\n",
        "\n",
        "<ul>\n",
        "<li>an unnumbered</li>\n",
        "<li>list</li>\n",
        "</ul>\n",
        "\n",
        "<ol type=\"1\">\n",
        "<li>and a numbered</li>\n",
        "<li>list that is</li>\n",
        "<li>three items long</li>\n",
        "</ol>"
      ],
      "metadata": {
        "id": "HQwwMdUpS1kR"
      }
    },
    {
      "cell_type": "markdown",
      "source": [
        "#**LaTeX**"
      ],
      "metadata": {
        "id": "SZ6y-ZOdU1il"
      }
    },
    {
      "cell_type": "markdown",
      "source": [
        "\n",
        "\n",
        "```\n",
        "\\section{This is a level one header}\n",
        "This is a paragraph\n",
        "\\subsection{This a level two header}\n",
        "Here is a paragraph that is followed by\n",
        "\\begin{itemize}\n",
        "\\iteman unnumbered\n",
        "\\item list\n",
        "\\end{itemize}\n",
        "\\begin{enumerate}\n",
        "\\item and a numbered\n",
        "\\item list that is\n",
        "\\item three items long\n",
        "\\end{enumerate}\n",
        "\n",
        "```\n",
        "\n",
        "\n",
        "\n"
      ],
      "metadata": {
        "id": "VWgKKubrU48n"
      }
    },
    {
      "cell_type": "code",
      "source": [
        "from IPython.display import display, Math, Latex, HTML"
      ],
      "metadata": {
        "id": "qyCCiatbWrup"
      },
      "execution_count": 5,
      "outputs": []
    },
    {
      "cell_type": "code",
      "source": [
        "display(HTML(\"<script src='https://cdnjs.cloudflare.com/ajax/libs/mathjax/2.7.3/\"\n",
        "               \"latest.js?config=default'></script>\"))\n",
        "\n",
        "Math(r'F(k) = \\int_{-\\infty}^{\\infty} f(x) e^{2\\pi i k} dx')"
      ],
      "metadata": {
        "colab": {
          "base_uri": "https://localhost:8080/",
          "height": 57
        },
        "id": "cyuz7U2LWvRh",
        "outputId": "d83a5d60-2c89-4e66-ab70-9a474d6b07d0"
      },
      "execution_count": 6,
      "outputs": [
        {
          "output_type": "display_data",
          "data": {
            "text/plain": [
              "<IPython.core.display.HTML object>"
            ],
            "text/html": [
              "<script src='https://cdnjs.cloudflare.com/ajax/libs/mathjax/2.7.3/latest.js?config=default'></script>"
            ]
          },
          "metadata": {}
        },
        {
          "output_type": "execute_result",
          "data": {
            "text/plain": [
              "<IPython.core.display.Math object>"
            ],
            "text/latex": "$\\displaystyle F(k) = \\int_{-\\infty}^{\\infty} f(x) e^{2\\pi i k} dx$"
          },
          "metadata": {},
          "execution_count": 6
        }
      ]
    },
    {
      "cell_type": "markdown",
      "source": [
        "> from:\n",
        "https://stackoverflow.com/questions/48856683/latex-equations-do-not-render-in-google-colaboratory-when-using-ipython-display"
      ],
      "metadata": {
        "id": "odmWiP42XGKM"
      }
    },
    {
      "cell_type": "markdown",
      "source": [
        "\n",
        "\n",
        "```\n",
        "# This is formatted as code\n",
        "\n",
        "$F(k) = \\int_{-\\infty}^{\\infty} f(x) e^{2\\pi i k} dx$\n",
        "```\n",
        "\n",
        "\n",
        "$F(k) = \\int_{-\\infty}^{\\infty} f(x) e^{2\\pi i k} dx$"
      ],
      "metadata": {
        "id": "9M2qa-GgbMxj"
      }
    },
    {
      "cell_type": "markdown",
      "source": [
        "طريقة تحويل كود بايثون عادي لعمليات رياضية إلى تنسيق LaTeX مع إظهار النواتج"
      ],
      "metadata": {
        "id": "7kWlogPFbyxx"
      }
    },
    {
      "cell_type": "code",
      "source": [
        "%pip install handcalcs"
      ],
      "metadata": {
        "colab": {
          "base_uri": "https://localhost:8080/"
        },
        "id": "kOM1qSULWClL",
        "outputId": "d01d7124-f394-4a7d-c193-1daf3dc37c04"
      },
      "execution_count": 15,
      "outputs": [
        {
          "output_type": "stream",
          "name": "stdout",
          "text": [
            "Looking in indexes: https://pypi.org/simple, https://us-python.pkg.dev/colab-wheels/public/simple/\n",
            "Collecting handcalcs\n",
            "  Downloading handcalcs-1.6.5-py2.py3-none-any.whl (89 kB)\n",
            "\u001b[2K     \u001b[90m━━━━━━━━━━━━━━━━━━━━━━━━━━━━━━━━━━━━━━━━\u001b[0m \u001b[32m89.2/89.2 KB\u001b[0m \u001b[31m3.7 MB/s\u001b[0m eta \u001b[36m0:00:00\u001b[0m\n",
            "\u001b[?25hCollecting innerscope\n",
            "  Downloading innerscope-0.5.1-py3-none-any.whl (18 kB)\n",
            "Collecting nbconvert>=6.0\n",
            "  Downloading nbconvert-7.2.8-py3-none-any.whl (274 kB)\n",
            "\u001b[2K     \u001b[90m━━━━━━━━━━━━━━━━━━━━━━━━━━━━━━━━━━━━━━\u001b[0m \u001b[32m274.8/274.8 KB\u001b[0m \u001b[31m11.9 MB/s\u001b[0m eta \u001b[36m0:00:00\u001b[0m\n",
            "\u001b[?25hRequirement already satisfied: more_itertools in /usr/local/lib/python3.8/dist-packages (from handcalcs) (9.0.0)\n",
            "Requirement already satisfied: pyparsing in /usr/local/lib/python3.8/dist-packages (from handcalcs) (3.0.9)\n",
            "Requirement already satisfied: defusedxml in /usr/local/lib/python3.8/dist-packages (from nbconvert>=6.0->handcalcs) (0.7.1)\n",
            "Collecting jupyterlab-pygments\n",
            "  Downloading jupyterlab_pygments-0.2.2-py2.py3-none-any.whl (21 kB)\n",
            "Requirement already satisfied: bleach in /usr/local/lib/python3.8/dist-packages (from nbconvert>=6.0->handcalcs) (5.0.1)\n",
            "Collecting jinja2>=3.0\n",
            "  Downloading Jinja2-3.1.2-py3-none-any.whl (133 kB)\n",
            "\u001b[2K     \u001b[90m━━━━━━━━━━━━━━━━━━━━━━━━━━━━━━━━━━━━━━\u001b[0m \u001b[32m133.1/133.1 KB\u001b[0m \u001b[31m14.1 MB/s\u001b[0m eta \u001b[36m0:00:00\u001b[0m\n",
            "\u001b[?25hRequirement already satisfied: nbformat>=5.1 in /usr/local/lib/python3.8/dist-packages (from nbconvert>=6.0->handcalcs) (5.7.1)\n",
            "Requirement already satisfied: markupsafe>=2.0 in /usr/local/lib/python3.8/dist-packages (from nbconvert>=6.0->handcalcs) (2.0.1)\n",
            "Collecting mistune<3,>=2.0.3\n",
            "  Downloading mistune-2.0.4-py2.py3-none-any.whl (24 kB)\n",
            "Requirement already satisfied: pygments>=2.4.1 in /usr/local/lib/python3.8/dist-packages (from nbconvert>=6.0->handcalcs) (2.6.1)\n",
            "Requirement already satisfied: jupyter-core>=4.7 in /usr/local/lib/python3.8/dist-packages (from nbconvert>=6.0->handcalcs) (5.1.3)\n",
            "Requirement already satisfied: importlib-metadata>=3.6 in /usr/local/lib/python3.8/dist-packages (from nbconvert>=6.0->handcalcs) (6.0.0)\n",
            "Requirement already satisfied: pandocfilters>=1.4.1 in /usr/local/lib/python3.8/dist-packages (from nbconvert>=6.0->handcalcs) (1.5.0)\n",
            "Requirement already satisfied: packaging in /usr/local/lib/python3.8/dist-packages (from nbconvert>=6.0->handcalcs) (21.3)\n",
            "Requirement already satisfied: traitlets>=5.0 in /usr/local/lib/python3.8/dist-packages (from nbconvert>=6.0->handcalcs) (5.7.1)\n",
            "Collecting tinycss2\n",
            "  Downloading tinycss2-1.2.1-py3-none-any.whl (21 kB)\n",
            "Requirement already satisfied: beautifulsoup4 in /usr/local/lib/python3.8/dist-packages (from nbconvert>=6.0->handcalcs) (4.6.3)\n",
            "Collecting nbclient>=0.5.0\n",
            "  Downloading nbclient-0.7.2-py3-none-any.whl (71 kB)\n",
            "\u001b[2K     \u001b[90m━━━━━━━━━━━━━━━━━━━━━━━━━━━━━━━━━━━━━━━━\u001b[0m \u001b[32m72.0/72.0 KB\u001b[0m \u001b[31m8.0 MB/s\u001b[0m eta \u001b[36m0:00:00\u001b[0m\n",
            "\u001b[?25hRequirement already satisfied: toolz in /usr/local/lib/python3.8/dist-packages (from innerscope->handcalcs) (0.12.0)\n",
            "Requirement already satisfied: zipp>=0.5 in /usr/local/lib/python3.8/dist-packages (from importlib-metadata>=3.6->nbconvert>=6.0->handcalcs) (3.11.0)\n",
            "Requirement already satisfied: platformdirs>=2.5 in /usr/local/lib/python3.8/dist-packages (from jupyter-core>=4.7->nbconvert>=6.0->handcalcs) (2.6.2)\n",
            "Requirement already satisfied: jupyter-client>=6.1.12 in /usr/local/lib/python3.8/dist-packages (from nbclient>=0.5.0->nbconvert>=6.0->handcalcs) (6.1.12)\n",
            "Requirement already satisfied: fastjsonschema in /usr/local/lib/python3.8/dist-packages (from nbformat>=5.1->nbconvert>=6.0->handcalcs) (2.16.2)\n",
            "Requirement already satisfied: jsonschema>=2.6 in /usr/local/lib/python3.8/dist-packages (from nbformat>=5.1->nbconvert>=6.0->handcalcs) (4.3.3)\n",
            "Requirement already satisfied: webencodings in /usr/local/lib/python3.8/dist-packages (from bleach->nbconvert>=6.0->handcalcs) (0.5.1)\n",
            "Requirement already satisfied: six>=1.9.0 in /usr/local/lib/python3.8/dist-packages (from bleach->nbconvert>=6.0->handcalcs) (1.15.0)\n",
            "Requirement already satisfied: pyrsistent!=0.17.0,!=0.17.1,!=0.17.2,>=0.14.0 in /usr/local/lib/python3.8/dist-packages (from jsonschema>=2.6->nbformat>=5.1->nbconvert>=6.0->handcalcs) (0.19.3)\n",
            "Requirement already satisfied: attrs>=17.4.0 in /usr/local/lib/python3.8/dist-packages (from jsonschema>=2.6->nbformat>=5.1->nbconvert>=6.0->handcalcs) (22.2.0)\n",
            "Requirement already satisfied: importlib-resources>=1.4.0 in /usr/local/lib/python3.8/dist-packages (from jsonschema>=2.6->nbformat>=5.1->nbconvert>=6.0->handcalcs) (5.10.2)\n",
            "Requirement already satisfied: tornado>=4.1 in /usr/local/lib/python3.8/dist-packages (from jupyter-client>=6.1.12->nbclient>=0.5.0->nbconvert>=6.0->handcalcs) (6.0.4)\n",
            "Requirement already satisfied: python-dateutil>=2.1 in /usr/local/lib/python3.8/dist-packages (from jupyter-client>=6.1.12->nbclient>=0.5.0->nbconvert>=6.0->handcalcs) (2.8.2)\n",
            "Requirement already satisfied: pyzmq>=13 in /usr/local/lib/python3.8/dist-packages (from jupyter-client>=6.1.12->nbclient>=0.5.0->nbconvert>=6.0->handcalcs) (23.2.1)\n",
            "Installing collected packages: mistune, tinycss2, jupyterlab-pygments, jinja2, innerscope, nbclient, nbconvert, handcalcs\n",
            "  Attempting uninstall: mistune\n",
            "    Found existing installation: mistune 0.8.4\n",
            "    Uninstalling mistune-0.8.4:\n",
            "      Successfully uninstalled mistune-0.8.4\n",
            "  Attempting uninstall: jinja2\n",
            "    Found existing installation: Jinja2 2.11.3\n",
            "    Uninstalling Jinja2-2.11.3:\n",
            "      Successfully uninstalled Jinja2-2.11.3\n",
            "  Attempting uninstall: nbconvert\n",
            "    Found existing installation: nbconvert 5.6.1\n",
            "    Uninstalling nbconvert-5.6.1:\n",
            "      Successfully uninstalled nbconvert-5.6.1\n",
            "\u001b[31mERROR: pip's dependency resolver does not currently take into account all the packages that are installed. This behaviour is the source of the following dependency conflicts.\n",
            "notebook 5.7.16 requires jinja2<=3.0.0, but you have jinja2 3.1.2 which is incompatible.\n",
            "notebook 5.7.16 requires nbconvert<6.0, but you have nbconvert 7.2.8 which is incompatible.\n",
            "flask 1.1.4 requires Jinja2<3.0,>=2.10.1, but you have jinja2 3.1.2 which is incompatible.\u001b[0m\u001b[31m\n",
            "\u001b[0mSuccessfully installed handcalcs-1.6.5 innerscope-0.5.1 jinja2-3.1.2 jupyterlab-pygments-0.2.2 mistune-2.0.4 nbclient-0.7.2 nbconvert-7.2.8 tinycss2-1.2.1\n"
          ]
        }
      ]
    },
    {
      "cell_type": "code",
      "source": [
        "import handcalcs.render"
      ],
      "metadata": {
        "id": "RMvk2ql9Zdjv"
      },
      "execution_count": 16,
      "outputs": []
    },
    {
      "cell_type": "code",
      "source": [
        "a = 23\n",
        "b = 43\n",
        "c = 2\n",
        "d = 3.226\n",
        "\n",
        "f = d / a + b"
      ],
      "metadata": {
        "id": "wiWPwfWbbo3z"
      },
      "execution_count": 24,
      "outputs": []
    },
    {
      "cell_type": "code",
      "source": [
        "f"
      ],
      "metadata": {
        "colab": {
          "base_uri": "https://localhost:8080/"
        },
        "id": "uW-SticGbr-j",
        "outputId": "3c1fe7f6-63da-416c-f7de-33912bc6d0ae"
      },
      "execution_count": 25,
      "outputs": [
        {
          "output_type": "execute_result",
          "data": {
            "text/plain": [
              "43.14026086956522"
            ]
          },
          "metadata": {},
          "execution_count": 25
        }
      ]
    },
    {
      "cell_type": "code",
      "source": [
        "%%render\n",
        "a = 23\n",
        "b = 43\n",
        "c = 2\n",
        "d = 3.226\n",
        "\n",
        "f = d / a + b"
      ],
      "metadata": {
        "colab": {
          "base_uri": "https://localhost:8080/",
          "height": 243
        },
        "id": "bZhE5AU0ZlDr",
        "outputId": "ef4f358d-4d84-4caf-e834-9a6d1a63da7a"
      },
      "execution_count": 17,
      "outputs": [
        {
          "output_type": "display_data",
          "data": {
            "text/plain": [
              "<IPython.core.display.Latex object>"
            ],
            "text/latex": "\\[\n\\begin{aligned}\na &= 23 \\; \n\\\\[10pt]\nb &= 43 \\; \n\\\\[10pt]\nc &= 2 \\; \n\\\\[10pt]\nd &= 3.226 \\; \n\\\\[10pt]\nf &= \\frac{ d }{ a } + b  = \\frac{ 3.226 }{ 23 } + 43 &= 43.140  \n\\end{aligned}\n\\]"
          },
          "metadata": {}
        }
      ]
    },
    {
      "cell_type": "markdown",
      "source": [
        "\n",
        "\n",
        "```\n",
        "\\begin{aligned}\n",
        "a &= 23 \\;\\textit{    }\\\\[10pt]\n",
        "b &= 43 \\;\\textit{    }\\\\[10pt]\n",
        "c &= 2 \\;\\textit{    }\\\\[10pt]\n",
        "d &= 3.226 \\;\\textit{    }\\\\[10pt]\n",
        "f &= \\frac{ d }{ a } + b = \\frac{ 3.226 }{ 23 } + 43 &= 43.14 \\;\\textit{    }\n",
        "\\end{aligned}\n",
        "```\n",
        "\n"
      ],
      "metadata": {
        "id": "WBhaBLOMaXEP"
      }
    },
    {
      "cell_type": "markdown",
      "source": [
        "\n",
        "\\begin{aligned}\n",
        "a &= 23 \\;\\textit{    }\\\\[10pt]\n",
        "b &= 43 \\;\\textit{    }\\\\[10pt]\n",
        "c &= 2 \\;\\textit{    }\\\\[10pt]\n",
        "d &= 3.226 \\;\\textit{    }\\\\[10pt]\n",
        "f &= \\frac{ d }{ a } + b = \\frac{ 3.226 }{ 23 } + 43 &= 43.14 \\;\\textit{    }\n",
        "\\end{aligned}\n"
      ],
      "metadata": {
        "id": "NHSaEcxfaOk1"
      }
    },
    {
      "cell_type": "markdown",
      "source": [
        ">from:\n",
        "https://stackoverflow.com/questions/48856683/latex-equations-do-not-render-in-google-colaboratory-when-using-ipython-display"
      ],
      "metadata": {
        "id": "k3e1rr4maf0J"
      }
    },
    {
      "cell_type": "code",
      "source": [],
      "metadata": {
        "id": "8NDtkPGjZtqz"
      },
      "execution_count": null,
      "outputs": []
    }
  ]
}